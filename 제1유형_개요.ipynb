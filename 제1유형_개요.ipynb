{
 "cells": [
  {
   "cell_type": "code",
   "execution_count": null,
   "id": "c2d0dda8",
   "metadata": {},
   "outputs": [],
   "source": [
    "import pandas as pd\n",
    "import numpy as np\n",
    "\n",
    "df = pd.read_csv('mtcars.csv')\n",
    "print(df.head())\n",
    "\n",
    "# 1. 데이터 타입\n",
    "df1 = df.copy()\n",
    "\n",
    "#   1) 데이터 타입 변환\n",
    "df1 = df.astype({'cyl':'object', 'gear':'object'})\n",
    "print(df1.dtypes)\n",
    "\n",
    "#   2) 데이터 프레임 shape \n",
    "print(df.shape())\n",
    "\n",
    "\n",
    "# 2. 기초 통계량\n",
    "#    1) 평균: .mean()\n",
    "df1['cyl'].mean()\n",
    "print(df1['cyl'].mean())\n",
    "\n",
    "#    2) 중앙값: .median()\n",
    "df1['cyl']\n",
    "print(df1['cyl'].median())\n",
    "\n",
    "#   3) 최빈값: .mode() -> 배열 형태임! \n",
    "print(df1['cyl'].mode()[0])\n",
    "print(df1['cyl'].value_counts())\n",
    "\n",
    "#   4) 분산: .var()\n",
    "print(df['mpg'].var())\n",
    "\n",
    "#   5) 표준편차: .std()\n",
    "print(df['mpg']).std()\n",
    "\n",
    "#   6) IQR: .quantile()\n",
    "print(df['mpg'].quantile([0.25, 0.5, 0.75]))\n",
    "\n",
    "#   7) \n",
    "\n",
    "\n",
    "# 3. "
   ]
  }
 ],
 "metadata": {
  "kernelspec": {
   "display_name": "BDA",
   "language": "python",
   "name": "python3"
  },
  "language_info": {
   "name": "python",
   "version": "3.12.11"
  }
 },
 "nbformat": 4,
 "nbformat_minor": 5
}
