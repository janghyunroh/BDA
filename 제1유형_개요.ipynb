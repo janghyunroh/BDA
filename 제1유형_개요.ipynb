{
 "cells": [
  {
   "cell_type": "code",
   "execution_count": 2,
   "id": "c2d0dda8",
   "metadata": {},
   "outputs": [],
   "source": [
    "import pandas as pd\n",
    "import numpy as np\n"
   ]
  },
  {
   "cell_type": "code",
   "execution_count": null,
   "id": "cb03446f",
   "metadata": {},
   "outputs": [
    {
     "name": "stdout",
     "output_type": "stream",
     "text": [
      "               model   mpg  cyl   disp   hp  drat     wt   qsec  vs  am  gear  \\\n",
      "0          Mazda RX4  21.0    6  160.0  110  3.90  2.620  16.46   0   1     4   \n",
      "1      Mazda RX4 Wag  21.0    6  160.0  110  3.90  2.875  17.02   0   1     4   \n",
      "2         Datsun 710  22.8    4  108.0   93  3.85  2.320  18.61   1   1     4   \n",
      "3     Hornet 4 Drive  21.4    6  258.0  110  3.08  3.215  19.44   1   0     3   \n",
      "4  Hornet Sportabout  18.7    8  360.0  175  3.15  3.440  17.02   0   0     3   \n",
      "\n",
      "   carb  \n",
      "0     4  \n",
      "1     4  \n",
      "2     1  \n",
      "3     1  \n",
      "4     2  \n"
     ]
    }
   ],
   "source": [
    "df = pd.read_csv('mtcars.csv')\n",
    "print(df.head())\n",
    "\n",
    "df1 = df.copy()"
   ]
  },
  {
   "cell_type": "markdown",
   "id": "760ae3b8",
   "metadata": {},
   "source": [
    "# 1. 데이터 타입 확인 및 변경"
   ]
  },
  {
   "cell_type": "code",
   "execution_count": 6,
   "id": "140c06c5",
   "metadata": {},
   "outputs": [
    {
     "name": "stdout",
     "output_type": "stream",
     "text": [
      "model     object\n",
      "mpg      float64\n",
      "cyl       object\n",
      "disp     float64\n",
      "hp         int64\n",
      "drat     float64\n",
      "wt       float64\n",
      "qsec     float64\n",
      "vs         int64\n",
      "am         int64\n",
      "gear      object\n",
      "carb       int64\n",
      "dtype: object\n",
      "(32, 12)\n"
     ]
    }
   ],
   "source": [
    "\n",
    "#   1) 데이터 타입 변환\n",
    "df1 = df.astype({'cyl':'object', 'gear':'object'})\n",
    "print(df1.dtypes)\n",
    "\n",
    "#   2) 데이터 프레임 shape (주의! shape은 함수가 아님!) \n",
    "print(df.shape)\n"
   ]
  },
  {
   "cell_type": "markdown",
   "id": "4cf931e8",
   "metadata": {},
   "source": [
    "# 2. 기초 통계량"
   ]
  },
  {
   "cell_type": "code",
   "execution_count": null,
   "id": "38353d06",
   "metadata": {},
   "outputs": [
    {
     "name": "stdout",
     "output_type": "stream",
     "text": [
      "6.1875\n",
      "6.0\n",
      "8\n",
      "cyl\n",
      "8    14\n",
      "4    11\n",
      "6     7\n",
      "Name: count, dtype: int64\n",
      "36.32410282258064\n",
      "0     21.0\n",
      "1     21.0\n",
      "2     22.8\n",
      "3     21.4\n",
      "4     18.7\n",
      "5     18.1\n",
      "6     14.3\n",
      "7     24.4\n",
      "8     22.8\n",
      "9     19.2\n",
      "10    17.8\n",
      "11    16.4\n",
      "12    17.3\n",
      "13    15.2\n",
      "14    10.4\n",
      "15    10.4\n",
      "16    14.7\n",
      "17    32.4\n",
      "18    30.4\n",
      "19    33.9\n",
      "20    21.5\n",
      "21    15.5\n",
      "22    15.2\n",
      "23    13.3\n",
      "24    19.2\n",
      "25    27.3\n",
      "26    26.0\n",
      "27    30.4\n",
      "28    15.8\n",
      "29    19.7\n",
      "30    15.0\n",
      "31    21.4\n",
      "Name: mpg, dtype: float64\n"
     ]
    },
    {
     "ename": "AttributeError",
     "evalue": "'NoneType' object has no attribute 'std'",
     "output_type": "error",
     "traceback": [
      "\u001b[31m---------------------------------------------------------------------------\u001b[39m",
      "\u001b[31mAttributeError\u001b[39m                            Traceback (most recent call last)",
      "\u001b[36mCell\u001b[39m\u001b[36m \u001b[39m\u001b[32mIn[7]\u001b[39m\u001b[32m, line 17\u001b[39m\n\u001b[32m     14\u001b[39m \u001b[38;5;28mprint\u001b[39m(df[\u001b[33m'\u001b[39m\u001b[33mmpg\u001b[39m\u001b[33m'\u001b[39m].var())\n\u001b[32m     16\u001b[39m \u001b[38;5;66;03m#   5) 표준편차: .std()\u001b[39;00m\n\u001b[32m---> \u001b[39m\u001b[32m17\u001b[39m \u001b[38;5;28;43mprint\u001b[39;49m\u001b[43m(\u001b[49m\u001b[43mdf\u001b[49m\u001b[43m[\u001b[49m\u001b[33;43m'\u001b[39;49m\u001b[33;43mmpg\u001b[39;49m\u001b[33;43m'\u001b[39;49m\u001b[43m]\u001b[49m\u001b[43m)\u001b[49m\u001b[43m.\u001b[49m\u001b[43mstd\u001b[49m()\n\u001b[32m     19\u001b[39m \u001b[38;5;66;03m#   6) IQR: .quantile()\u001b[39;00m\n\u001b[32m     20\u001b[39m \u001b[38;5;28mprint\u001b[39m(df[\u001b[33m'\u001b[39m\u001b[33mmpg\u001b[39m\u001b[33m'\u001b[39m].quantile([\u001b[32m0.25\u001b[39m, \u001b[32m0.5\u001b[39m, \u001b[32m0.75\u001b[39m]))\n",
      "\u001b[31mAttributeError\u001b[39m: 'NoneType' object has no attribute 'std'"
     ]
    }
   ],
   "source": [
    "\n",
    "#    1) 평균: .mean()\n",
    "df1['cyl'].mean()\n",
    "print(df1['cyl'].mean())\n",
    "\n",
    "#    2) 중앙값: .median()\n",
    "df1['cyl']\n",
    "print(df1['cyl'].median())\n",
    "\n",
    "#   3) 최빈값: .mode() -> 배열 형태임! \n",
    "print(df1['cyl'].mode()[0])\n",
    "print(df1['cyl'].value_counts())\n",
    "\n",
    "#   4) 분산: .var()\n",
    "print(df['mpg'].var())\n",
    "\n",
    "#   5) 표준편차: .std()\n",
    "print(df['mpg'].std())\n",
    "\n",
    "#   6) IQR: .quantile()\n",
    "print(df['mpg'].quantile([0.25, 0.5, 0.75]))\n",
    "\n",
    "#   7) "
   ]
  }
 ],
 "metadata": {
  "kernelspec": {
   "display_name": "BDA",
   "language": "python",
   "name": "python3"
  },
  "language_info": {
   "codemirror_mode": {
    "name": "ipython",
    "version": 3
   },
   "file_extension": ".py",
   "mimetype": "text/x-python",
   "name": "python",
   "nbconvert_exporter": "python",
   "pygments_lexer": "ipython3",
   "version": "3.12.11"
  }
 },
 "nbformat": 4,
 "nbformat_minor": 5
}
